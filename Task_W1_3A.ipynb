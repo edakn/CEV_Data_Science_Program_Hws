{
  "nbformat": 4,
  "nbformat_minor": 0,
  "metadata": {
    "colab": {
      "provenance": [],
      "collapsed_sections": []
    },
    "kernelspec": {
      "name": "python3",
      "display_name": "Python 3"
    },
    "language_info": {
      "name": "python"
    }
  },
  "cells": [
    {
      "cell_type": "markdown",
      "source": [
        "Task-W1-3A:Please write a piece of code that will generate numbers for a coupon in Sayisal Loto that should inlude 8 colons and each column should have 6 random numbers.\n",
        "\n",
        "Please control the colons in terms of having no repetitions."
      ],
      "metadata": {
        "id": "EOrFbPwMG1pt"
      }
    },
    {
      "cell_type": "code",
      "execution_count": 28,
      "metadata": {
        "colab": {
          "base_uri": "https://localhost:8080/"
        },
        "id": "GyF0Q60GGrTb",
        "outputId": "95d9e4ea-cf78-4b74-ebd3-5d75d43190d5"
      },
      "outputs": [
        {
          "output_type": "execute_result",
          "data": {
            "text/plain": [
              "array([[37, 33, 10,  8, 17, 21],\n",
              "       [22, 40, 20, 16,  2, 15],\n",
              "       [38, 31, 42, 30, 32, 12],\n",
              "       [18, 36, 43, 19, 44,  9],\n",
              "       [24, 35, 14,  6, 48,  7],\n",
              "       [25, 39, 29,  5, 41, 49],\n",
              "       [26,  3, 11, 45, 23, 47],\n",
              "       [ 1, 46, 34, 27, 13, 28]])"
            ]
          },
          "metadata": {},
          "execution_count": 28
        }
      ],
      "source": [
        "import numpy as np\n",
        "coupon = np.random.randint(1,50,size=(8,6))\n",
        "temp_coupon=0\n",
        "for col in range(8):        \n",
        "    for each in range (6):\n",
        "        temp_coupon = coupon[col,each]    \n",
        "        coupon[col,each] = 0       \n",
        "        while temp_coupon in coupon:                 \n",
        "            temp_coupon = np.random.randint(1,50)\n",
        "        coupon[col,each] = temp_coupon                    \n",
        "\n",
        "coupon"
      ]
    }
  ]
}