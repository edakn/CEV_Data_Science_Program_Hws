{
  "nbformat": 4,
  "nbformat_minor": 0,
  "metadata": {
    "colab": {
      "provenance": [],
      "collapsed_sections": []
    },
    "kernelspec": {
      "name": "python3",
      "display_name": "Python 3"
    },
    "language_info": {
      "name": "python"
    }
  },
  "cells": [
    {
      "cell_type": "markdown",
      "source": [
        "CONTEST: In groups of 2 students, please try to develop a statistically valid predictor of CDRGLOB via using feature engineering. This means you need to work on the numeric values of the features (variables/columns) by performing multiplications and/or division operations. One such instance is BMI in which we divide weight by height square to get a good indicator of health (skinny, normal, obese, very obese etc). Thus, you should provide a mathematical formula and you should provide arguments and statistical analyses for the validation of your formula.\n",
        "\n",
        "Here is an example that is just to illustrate how it can happen:\n",
        "\n",
        "data[\"Tunas Formula\"] = (data[\"NACCBMI\"] * data[\"EDUC\"]) / (data[\"HIPPOVOL\"] * data[\"HIPPOVOL\"] * data[\"INDEPEND\"]\n",
        "Yeni Bölüm\n",
        "Evaluation metric for the contest:\n",
        "1- You should provide the outputs for a correlation analysis between CDRGLOB and your formula's score. \n",
        "2- You should also provide the group mean values for your formula's scores for each of 4 groups (CDRGLOB).\n",
        "3- You should provide a visual illustration for the scores (of your formula) with respect to a variable (you should demonstrate the output in a scatter plot in which the cases should be colored with respect to CDRGLOB values)."
      ],
      "metadata": {
        "id": "TSz-6M64qm58"
      }
    },
    {
      "cell_type": "code",
      "execution_count": null,
      "metadata": {
        "id": "6WJjgvKjqVny"
      },
      "outputs": [],
      "source": [
        "import pandas as pd\n",
        "import matplotlib.pyplot as plt\n",
        "\n",
        "data = pd.read_excel(\"Temporary_data3_-_Copy.xlsx\")"
      ]
    },
    {
      "cell_type": "code",
      "source": [
        "pd.options.display.max_rows = 999\n",
        "pd.options.display.max_columns = 999"
      ],
      "metadata": {
        "id": "44FK39aNusO1"
      },
      "execution_count": null,
      "outputs": []
    },
    {
      "cell_type": "code",
      "source": [
        "data.corr()[\"CDRGLOB\"]"
      ],
      "metadata": {
        "colab": {
          "base_uri": "https://localhost:8080/"
        },
        "id": "jgvn9RvnvAqv",
        "outputId": "87d4a700-0035-432e-f23e-7134422c9f0d"
      },
      "execution_count": null,
      "outputs": [
        {
          "output_type": "execute_result",
          "data": {
            "text/plain": [
              "SEX        -0.180540\n",
              "EDUC       -0.140977\n",
              "MARISTAT   -0.141259\n",
              "INDEPEND    0.693881\n",
              "RESIDENC    0.047407\n",
              "NACCFAM    -0.031420\n",
              "ANYMEDS     0.046006\n",
              "SMOKYRS     0.052314\n",
              "NACCTBI     0.025083\n",
              "DIABETES    0.011817\n",
              "ALCOHOL     0.056575\n",
              "HXHYPER     0.145033\n",
              "HYPERCHO    0.079822\n",
              "HXSTROKE    0.070035\n",
              "FOCLSIGN    0.024830\n",
              "HACHIN      0.082589\n",
              "CDRGLOB     1.000000\n",
              "DEL         0.300995\n",
              "HALL        0.230672\n",
              "AGIT        0.373153\n",
              "DEPD        0.292237\n",
              "ANX         0.319968\n",
              "ELAT        0.102524\n",
              "APA         0.448558\n",
              "DISN        0.326447\n",
              "IRR         0.319788\n",
              "MOT         0.330414\n",
              "NITE        0.288502\n",
              "APP         0.276887\n",
              "NACCGDS     0.206493\n",
              "DROPACT     0.193202\n",
              "NACCMMSE   -0.746660\n",
              "NACCAGEB    0.247424\n",
              "NACCAMD     0.088191\n",
              "NACCBMI    -0.053315\n",
              "NACCAPOE    0.099332\n",
              "NACCNE4S    0.175504\n",
              "NACCICV     0.032696\n",
              "NACCBRNV   -0.173578\n",
              "NACCWMVL   -0.073574\n",
              "CSFVOL      0.319231\n",
              "GRAYVOL    -0.193291\n",
              "WHITEVOL   -0.124264\n",
              "WMHVOL      0.272277\n",
              "HIPPOVOL   -0.449069\n",
              "CEREALL     0.008957\n",
              "CERETISS   -0.180378\n",
              "CERECSF     0.331263\n",
              "CEREGR     -0.245501\n",
              "CEREWH     -0.132526\n",
              "LHIPPO     -0.442185\n",
              "RHIPPO     -0.424068\n",
              "LLATVENT    0.414033\n",
              "RLATVENT    0.406806\n",
              "LATVENT     0.420204\n",
              "THIRVENT    0.349319\n",
              "LFRCORT    -0.201037\n",
              "RFRCORT    -0.199006\n",
              "FRCORT     -0.199958\n",
              "LOCCORT    -0.122859\n",
              "ROCCORT    -0.168171\n",
              "OCCCORT    -0.150129\n",
              "LPARCORT   -0.221475\n",
              "RPARCORT   -0.233881\n",
              "PARCORT    -0.232608\n",
              "LTEMPCOR   -0.331856\n",
              "RTEMPCOR   -0.324375\n",
              "TEMPCOR    -0.335349\n",
              "LCAC       -0.013760\n",
              "LCACM      -0.253323\n",
              "LCMF       -0.157502\n",
              "LCMFM      -0.240078\n",
              "LCUN        0.007633\n",
              "LCUNM      -0.091903\n",
              "LENT       -0.294774\n",
              "LENTM      -0.453646\n",
              "LFUS       -0.149765\n",
              "LFUSM      -0.259396\n",
              "LINFPAR    -0.174412\n",
              "LINFPARM   -0.127727\n",
              "LINFTEMP   -0.298785\n",
              "LINFTEMM   -0.331250\n",
              "LINSULA    -0.210999\n",
              "LINSULAM   -0.250077\n",
              "LISTHC     -0.134968\n",
              "LISTHCM    -0.372906\n",
              "LLATOCC    -0.184565\n",
              "LLATOCCM   -0.171732\n",
              "LLATORBF   -0.149635\n",
              "LLATORBM   -0.277958\n",
              "LLING      -0.055241\n",
              "LLINGM     -0.245117\n",
              "LMEDORBF   -0.195157\n",
              "LMEDORBM   -0.245250\n",
              "LMIDTEMP   -0.321429\n",
              "LMIDTEMM   -0.295086\n",
              "LPARCEN    -0.131863\n",
              "LPARCENM   -0.244393\n",
              "LPARHIP    -0.226672\n",
              "LPARHIPM   -0.338774\n",
              "LPARSOP    -0.111013\n",
              "LPARSOPM   -0.121483\n",
              "LPARORB    -0.104226\n",
              "LPARORBM   -0.168360\n",
              "LPARTRI    -0.079435\n",
              "LPARTRIM   -0.131535\n",
              "LPERCAL    -0.050989\n",
              "LPERCALM   -0.204592\n",
              "LPOSCEN    -0.144483\n",
              "LPOSCENM   -0.207709\n",
              "LPOSCIN    -0.130742\n",
              "LPOSCINM   -0.261619\n",
              "LPRECEN    -0.197009\n",
              "LPRECENM   -0.255781\n",
              "LPRECUN    -0.194226\n",
              "LPRECUNM   -0.201913\n",
              "LROSANC    -0.067482\n",
              "LROSANCM   -0.236448\n",
              "LROSMF     -0.092101\n",
              "LROSMFM    -0.150859\n",
              "LSUPFR     -0.202914\n",
              "LSUPFRM    -0.314413\n",
              "LSUPPAR    -0.154337\n",
              "LSUPPARM   -0.185603\n",
              "LSUPTEM    -0.261966\n",
              "LSUPTEMM   -0.367520\n",
              "LSUPMAR    -0.181878\n",
              "LSUPMARM   -0.173348\n",
              "LTRTEM     -0.173815\n",
              "LTRTEMM    -0.242652\n",
              "RCAC        0.070469\n",
              "RCACM      -0.164151\n",
              "RCMF       -0.095914\n",
              "RCMFM      -0.193732\n",
              "RCUN       -0.085739\n",
              "RCUNM      -0.176062\n",
              "RENT       -0.303384\n",
              "RENTM      -0.478207\n",
              "RFUS       -0.215190\n",
              "RFUSM      -0.335226\n",
              "RINFPAR    -0.195698\n",
              "RINFPARM   -0.225785\n",
              "RINFTEMP   -0.303036\n",
              "RINFTEMM   -0.300374\n",
              "RINSULA    -0.196338\n",
              "RINSULAM   -0.267324\n",
              "RISTHC     -0.110481\n",
              "RISTHCM    -0.349977\n",
              "RLATOCC    -0.182399\n",
              "RLATOCCM   -0.196442\n",
              "RLATORBF   -0.163832\n",
              "RLATORBM   -0.190462\n",
              "RLING      -0.021509\n",
              "RLINGM     -0.266026\n",
              "RMEDORBF   -0.233440\n",
              "RMEDORBM   -0.260876\n",
              "RMIDTEMP   -0.278875\n",
              "RMIDTEMM   -0.212253\n",
              "RPARCEN    -0.189860\n",
              "RPARCENM   -0.287871\n",
              "RPARHIP    -0.260860\n",
              "RPARHIPM   -0.371822\n",
              "RPARSOP    -0.133181\n",
              "RPARSOPM   -0.126234\n",
              "RPARORB    -0.096156\n",
              "RPARORBM   -0.167716\n",
              "RPARTRI    -0.138409\n",
              "RPARTRIM   -0.135302\n",
              "RPERCAL    -0.149637\n",
              "RPERCALM   -0.253505\n",
              "RPOSCEN    -0.121319\n",
              "RPOSCENM   -0.204938\n",
              "RPOSCIN    -0.120150\n",
              "RPOSCINM   -0.231522\n",
              "RPRECEN    -0.153260\n",
              "RPRECENM   -0.242269\n",
              "RPRECUN    -0.210428\n",
              "RPRECUNM   -0.248733\n",
              "RROSANC    -0.090494\n",
              "RROSANCM   -0.212438\n",
              "RROSMF     -0.087578\n",
              "RROSMFM    -0.092678\n",
              "RSUPFR     -0.191233\n",
              "RSUPFRM    -0.304840\n",
              "RSUPPAR    -0.193909\n",
              "RSUPPARM   -0.259512\n",
              "RSUPTEM    -0.266458\n",
              "RSUPTEMM   -0.348159\n",
              "RSUPMAR    -0.164707\n",
              "RSUPMARM   -0.268851\n",
              "RTRTEM     -0.120294\n",
              "RTRTEMM    -0.172810\n",
              "Name: CDRGLOB, dtype: float64"
            ]
          },
          "metadata": {},
          "execution_count": 5
        }
      ]
    },
    {
      "cell_type": "code",
      "source": [
        "data[\"Formula\"]=data['CERECSF']*data['CSFVOL']**(1/10)*data['INDEPEND']/((data['HIPPOVOL']+10*data['GRAYVOL'])**(2)-data['NACCMMSE']**(2))*100\n",
        "data.corr()[\"CDRGLOB\"][192] #Our Formula is in the last row"
      ],
      "metadata": {
        "colab": {
          "base_uri": "https://localhost:8080/"
        },
        "id": "Ok3HiTWy6pZ7",
        "outputId": "80de2e09-fe0c-4818-8b4c-5c4b69044dd5"
      },
      "execution_count": 476,
      "outputs": [
        {
          "output_type": "execute_result",
          "data": {
            "text/plain": [
              "0.7040145070713968"
            ]
          },
          "metadata": {},
          "execution_count": 476
        }
      ]
    },
    {
      "cell_type": "code",
      "source": [
        "data.groupby('CDRGLOB')[['Formula']].mean()"
      ],
      "metadata": {
        "colab": {
          "base_uri": "https://localhost:8080/",
          "height": 206
        },
        "id": "UKxsG7bwvYWB",
        "outputId": "4bdef6df-7d79-437c-9b5a-adc699268520"
      },
      "execution_count": 477,
      "outputs": [
        {
          "output_type": "execute_result",
          "data": {
            "text/plain": [
              "          Formula\n",
              "CDRGLOB          \n",
              "0        0.001480\n",
              "1        0.002316\n",
              "2        0.003805\n",
              "3        0.006374"
            ],
            "text/html": [
              "\n",
              "  <div id=\"df-41b43c86-41ce-4907-ab1a-464b65169658\">\n",
              "    <div class=\"colab-df-container\">\n",
              "      <div>\n",
              "<style scoped>\n",
              "    .dataframe tbody tr th:only-of-type {\n",
              "        vertical-align: middle;\n",
              "    }\n",
              "\n",
              "    .dataframe tbody tr th {\n",
              "        vertical-align: top;\n",
              "    }\n",
              "\n",
              "    .dataframe thead th {\n",
              "        text-align: right;\n",
              "    }\n",
              "</style>\n",
              "<table border=\"1\" class=\"dataframe\">\n",
              "  <thead>\n",
              "    <tr style=\"text-align: right;\">\n",
              "      <th></th>\n",
              "      <th>Formula</th>\n",
              "    </tr>\n",
              "    <tr>\n",
              "      <th>CDRGLOB</th>\n",
              "      <th></th>\n",
              "    </tr>\n",
              "  </thead>\n",
              "  <tbody>\n",
              "    <tr>\n",
              "      <th>0</th>\n",
              "      <td>0.001480</td>\n",
              "    </tr>\n",
              "    <tr>\n",
              "      <th>1</th>\n",
              "      <td>0.002316</td>\n",
              "    </tr>\n",
              "    <tr>\n",
              "      <th>2</th>\n",
              "      <td>0.003805</td>\n",
              "    </tr>\n",
              "    <tr>\n",
              "      <th>3</th>\n",
              "      <td>0.006374</td>\n",
              "    </tr>\n",
              "  </tbody>\n",
              "</table>\n",
              "</div>\n",
              "      <button class=\"colab-df-convert\" onclick=\"convertToInteractive('df-41b43c86-41ce-4907-ab1a-464b65169658')\"\n",
              "              title=\"Convert this dataframe to an interactive table.\"\n",
              "              style=\"display:none;\">\n",
              "        \n",
              "  <svg xmlns=\"http://www.w3.org/2000/svg\" height=\"24px\"viewBox=\"0 0 24 24\"\n",
              "       width=\"24px\">\n",
              "    <path d=\"M0 0h24v24H0V0z\" fill=\"none\"/>\n",
              "    <path d=\"M18.56 5.44l.94 2.06.94-2.06 2.06-.94-2.06-.94-.94-2.06-.94 2.06-2.06.94zm-11 1L8.5 8.5l.94-2.06 2.06-.94-2.06-.94L8.5 2.5l-.94 2.06-2.06.94zm10 10l.94 2.06.94-2.06 2.06-.94-2.06-.94-.94-2.06-.94 2.06-2.06.94z\"/><path d=\"M17.41 7.96l-1.37-1.37c-.4-.4-.92-.59-1.43-.59-.52 0-1.04.2-1.43.59L10.3 9.45l-7.72 7.72c-.78.78-.78 2.05 0 2.83L4 21.41c.39.39.9.59 1.41.59.51 0 1.02-.2 1.41-.59l7.78-7.78 2.81-2.81c.8-.78.8-2.07 0-2.86zM5.41 20L4 18.59l7.72-7.72 1.47 1.35L5.41 20z\"/>\n",
              "  </svg>\n",
              "      </button>\n",
              "      \n",
              "  <style>\n",
              "    .colab-df-container {\n",
              "      display:flex;\n",
              "      flex-wrap:wrap;\n",
              "      gap: 12px;\n",
              "    }\n",
              "\n",
              "    .colab-df-convert {\n",
              "      background-color: #E8F0FE;\n",
              "      border: none;\n",
              "      border-radius: 50%;\n",
              "      cursor: pointer;\n",
              "      display: none;\n",
              "      fill: #1967D2;\n",
              "      height: 32px;\n",
              "      padding: 0 0 0 0;\n",
              "      width: 32px;\n",
              "    }\n",
              "\n",
              "    .colab-df-convert:hover {\n",
              "      background-color: #E2EBFA;\n",
              "      box-shadow: 0px 1px 2px rgba(60, 64, 67, 0.3), 0px 1px 3px 1px rgba(60, 64, 67, 0.15);\n",
              "      fill: #174EA6;\n",
              "    }\n",
              "\n",
              "    [theme=dark] .colab-df-convert {\n",
              "      background-color: #3B4455;\n",
              "      fill: #D2E3FC;\n",
              "    }\n",
              "\n",
              "    [theme=dark] .colab-df-convert:hover {\n",
              "      background-color: #434B5C;\n",
              "      box-shadow: 0px 1px 3px 1px rgba(0, 0, 0, 0.15);\n",
              "      filter: drop-shadow(0px 1px 2px rgba(0, 0, 0, 0.3));\n",
              "      fill: #FFFFFF;\n",
              "    }\n",
              "  </style>\n",
              "\n",
              "      <script>\n",
              "        const buttonEl =\n",
              "          document.querySelector('#df-41b43c86-41ce-4907-ab1a-464b65169658 button.colab-df-convert');\n",
              "        buttonEl.style.display =\n",
              "          google.colab.kernel.accessAllowed ? 'block' : 'none';\n",
              "\n",
              "        async function convertToInteractive(key) {\n",
              "          const element = document.querySelector('#df-41b43c86-41ce-4907-ab1a-464b65169658');\n",
              "          const dataTable =\n",
              "            await google.colab.kernel.invokeFunction('convertToInteractive',\n",
              "                                                     [key], {});\n",
              "          if (!dataTable) return;\n",
              "\n",
              "          const docLinkHtml = 'Like what you see? Visit the ' +\n",
              "            '<a target=\"_blank\" href=https://colab.research.google.com/notebooks/data_table.ipynb>data table notebook</a>'\n",
              "            + ' to learn more about interactive tables.';\n",
              "          element.innerHTML = '';\n",
              "          dataTable['output_type'] = 'display_data';\n",
              "          await google.colab.output.renderOutput(dataTable, element);\n",
              "          const docLink = document.createElement('div');\n",
              "          docLink.innerHTML = docLinkHtml;\n",
              "          element.appendChild(docLink);\n",
              "        }\n",
              "      </script>\n",
              "    </div>\n",
              "  </div>\n",
              "  "
            ]
          },
          "metadata": {},
          "execution_count": 477
        }
      ]
    },
    {
      "cell_type": "code",
      "source": [
        "x = data [\"CERECSF\"]\n",
        "y = data[\"Formula\"]\n",
        "labels = data[\"CDRGLOB\"]\n",
        "plt.scatter(x, y, s=10, cmap = \"viridis\", c=labels, alpha=0.5)\n",
        "plt.xlabel(\"CERECSF Values\")\n",
        "plt.ylabel(\"Formula Values\")\n",
        "plt.colorbar()\n",
        "plt.show()"
      ],
      "metadata": {
        "colab": {
          "base_uri": "https://localhost:8080/",
          "height": 283
        },
        "id": "Sljv0fozJePE",
        "outputId": "3558a2f7-2366-4ffd-d88b-89eca3684f35"
      },
      "execution_count": 478,
      "outputs": [
        {
          "output_type": "display_data",
          "data": {
            "text/plain": [
              "<Figure size 432x288 with 2 Axes>"
            ],
            "image/png": "[encoded data removed]"
          },
          "metadata": {
            "needs_background": "light"
          }
        }
      ]
    },
    {
      "cell_type": "code",
      "source": [
        "x = data [\"CERECSF\"]\n",
        "y = data[\"CDRGLOB\"]\n",
        "labels = data[\"Formula\"]\n",
        "plt.scatter(x, y, s=10, cmap = \"viridis\", c=labels, alpha=0.5)\n",
        "plt.xlabel(\"CERECSF Values\")\n",
        "plt.ylabel(\"CDR\")\n",
        "plt.colorbar()\n",
        "plt.show()"
      ],
      "metadata": {
        "colab": {
          "base_uri": "https://localhost:8080/",
          "height": 279
        },
        "id": "Cs_qHBiBQ7_J",
        "outputId": "8677f86e-3035-49fd-cc7d-38a29a8b6c24"
      },
      "execution_count": 479,
      "outputs": [
        {
          "output_type": "display_data",
          "data": {
            "text/plain": [
              "<Figure size 432x288 with 2 Axes>"
            ],
            "image/png": "[encoded data removed]"
          },
          "metadata": {
            "needs_background": "light"
          }
        }
      ]
    }
  ]
}