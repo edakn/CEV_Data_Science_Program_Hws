{
  "nbformat": 4,
  "nbformat_minor": 0,
  "metadata": {
    "colab": {
      "provenance": [],
      "collapsed_sections": []
    },
    "kernelspec": {
      "name": "python3",
      "display_name": "Python 3"
    },
    "language_info": {
      "name": "python"
    }
  },
  "cells": [
    {
      "cell_type": "markdown",
      "source": [
        "TASK-W1-3B: Please write a piece of code to find the names and order no of the presidents with the highest and the lowest heights."
      ],
      "metadata": {
        "id": "NeT54mSFUiDW"
      }
    },
    {
      "cell_type": "code",
      "execution_count": 7,
      "metadata": {
        "colab": {
          "base_uri": "https://localhost:8080/"
        },
        "id": "UkErvmfzUN40",
        "outputId": "09438999-d2d5-4d6e-8062-e4f75c1598f3"
      },
      "outputs": [
        {
          "output_type": "stream",
          "name": "stdout",
          "text": [
            "At 193 inches tall, the 16-th president,Abraham Lincoln, is the tallest president.\n",
            "At 163 inches tall, the 4-th president,James Madison, is the shortest president.\n"
          ]
        }
      ],
      "source": [
        "import pandas as pd \n",
        "import numpy as np\n",
        "data = pd.read_csv(\"president_heights.csv\")\n",
        "heights= np.array(data['height(cm)'])\n",
        "\n",
        "inc,order,name=heights.max(),data[\"order\"][heights.argmax()],data[\"name\"][heights.argmax()]\n",
        "print(\"At {} inches tall, the {}-th president,{}, is the tallest president.\".format(inc,order,name))\n",
        "inc,order,name=heights.min(),data[\"order\"][heights.argmin()],data[\"name\"][heights.argmin()]\n",
        "print(\"At {} inches tall, the {}-th president,{}, is the shortest president.\".format(inc,order,name))\n"
      ]
    }
  ]
}