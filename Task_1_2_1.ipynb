{
  "nbformat": 4,
  "nbformat_minor": 0,
  "metadata": {
    "colab": {
      "provenance": [],
      "collapsed_sections": []
    },
    "kernelspec": {
      "name": "python3",
      "display_name": "Python 3"
    },
    "language_info": {
      "name": "python"
    }
  },
  "cells": [
    {
      "cell_type": "markdown",
      "source": [
        "TASK-1.2.1: Prime number function: use while instead of for"
      ],
      "metadata": {
        "id": "NpkAw1BG4qef"
      }
    },
    {
      "cell_type": "code",
      "source": [
        "def is_prime (num):\n",
        "  if (num<2):\n",
        "    return False\n",
        "  elif (num==2):\n",
        "    return True\n",
        "  elif(num%2 == 0):\n",
        "    return False\n",
        "\n",
        "  i=3\n",
        "  count=0\n",
        "  while (i<=num//2):\n",
        "    if (num%i==0):\n",
        "      count +=1\n",
        "      break\n",
        "      return False\n",
        "    i+=2\n",
        "    \n",
        "  if count==0:\n",
        "    return True \n",
        "  else:\n",
        "    return False \n",
        "\n",
        "print(is_prime(2))\n",
        "print(is_prime(7))\n",
        "print(is_prime(24))\n",
        "print(is_prime(77))"
      ],
      "metadata": {
        "colab": {
          "base_uri": "https://localhost:8080/"
        },
        "id": "B19C6W7a4uWx",
        "outputId": "45e37f11-5d48-4949-f71c-c3944d2dc67b"
      },
      "execution_count": 1,
      "outputs": [
        {
          "output_type": "stream",
          "name": "stdout",
          "text": [
            "True\n",
            "True\n",
            "False\n",
            "False\n"
          ]
        }
      ]
    }
  ]
}