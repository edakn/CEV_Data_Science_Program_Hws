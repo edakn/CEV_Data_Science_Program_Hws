{
  "nbformat": 4,
  "nbformat_minor": 0,
  "metadata": {
    "colab": {
      "provenance": []
    },
    "kernelspec": {
      "name": "python3",
      "display_name": "Python 3"
    },
    "language_info": {
      "name": "python"
    }
  },
  "cells": [
    {
      "cell_type": "markdown",
      "source": [
        "1> 100 katlı bina var 2 adet yumurta ile sadece tek sefer kullanmak şartı en az kaç defada yumurtanın kırılmadığı katı bulabiliriz?\n",
        "\n",
        "İlk düşüşümüz 14. kattan olmalı, eğer yumurta hayatta kalırsa 13 kat çıkarak 27. kata, ardından 12 kat çıkarak 39 …\n",
        "En uygun strateji, ilk yumurta kırılana kadar katlarda ilerlemek, ardından yukarıdaki çizgiden bir kat daha yükseğe çıkmak ve ardından kesin çözümü bulana kadar kat kat ilerlemektir. \n",
        "q*(q+1)/2 >= n\n",
        "14*15/2>=100\n",
        "105>=100 "
      ],
      "metadata": {
        "id": "49X0z50NZEuh"
      }
    },
    {
      "cell_type": "markdown",
      "source": [
        "2> Görüntü işleme aşamlarını sırası ile tarif ediniz.\n",
        "\n",
        "<br>>Optik tarayıcı veya dijital fotoğraflarla görüntü elde etme.\n",
        "<br>>Veri sıkıştırma, görüntü geliştirme ve uydu fotoğrafları gibi insan dışı boyama modellerini içeren görüntüleri analiz edin ve kullanın.\n",
        "<br>>Çıktı, sonuçların görüntü analizine göre değiştirilmiş, kullanıma hazır."
      ],
      "metadata": {
        "id": "xn3yTpOWaouI"
      }
    },
    {
      "cell_type": "markdown",
      "source": [
        "3> Feature map veya bir sonraki layerın boyutlarını belirleyen özellikler nelerdir. Açıklayınız.\n",
        "\n",
        "<br>>En temel blok Convolution katmanıdır. Convolution, iki kümenin birleştirilmesini sağlayan matematiksel işlemdir. Convolution filter (kernel), girişe uygulanarak özellik haritası (feature map) oluşturulur.\n",
        "<br>>Stride, her adımda convolution filtresinin hareket adım boyutunu belirler.<br>>Padding, giriş ile aynı boyutta özellik haritası oluşturmak için kullanılır.\n",
        "<br>>Pooling katmanı, bir alt örnekleme işlemi gerçekleştirir. Pooling, convolution işleminden sonra uygulanır ve boyut indirgeme yapar. Pooling katmanı, özellik haritasının yüksekliğini ve genişliğini\n",
        "düşürerek örnekler (derinlik aynı kalır).\n",
        "<br>>Fully-connected katmanı üç boyutlu girişi tek boyuta\n",
        "indirgeyerek alır ve bir sınıf etiketi elde eder.\n",
        "<br>>Softmax katmanı çıkış sınıflarının olasılık dağılımını\n",
        "hesaplar."
      ],
      "metadata": {
        "id": "-tQvfwpHeIBK"
      }
    },
    {
      "cell_type": "markdown",
      "source": [
        "4> Softmax nedir? Ne işe yarar? \n",
        "\n",
        "Softmax fonksiyonu sınıflandırma problemlerinde kullanılır. Softmax katmanı çıkış sınıflarının olasılık dağılımını hesaplar. Softmax, çıkışın sınıflara ait olma olasılığının dağılımını verir. Genellikle çıkış neuron sayısı sınıf etiketi sayısı kadar alınır. Yüksek olasılığa sahip sınıf etiketi verilen girişler için atanır."
      ],
      "metadata": {
        "id": "xRrh6wuHgvlH"
      }
    },
    {
      "cell_type": "markdown",
      "source": [
        "5> Aktivasyon fonskiyonlarının kullanım amaçları nedir? 3 adet örnek veriniz. Amaçlarını açıklayınız. Şekillerini çiziniz.\n",
        "\n",
        "Yapay sinir ağlarına doğrusal olmayan gerçek dünya özelliklerini tanıtmak için aktivasyon fonksiyonuna ihtiyaç duyarız.  Aktivasyon fonksiyonu kullanılmayan bir sinir ağı sınırlı öğrenme gücüne sahip bir linear regression gibi davranacaktır. Ama biz sinir ağımızın doğrusal olmayan durumları da öğrenmesini istediğimiz için de aktivasyon fonksiyonunu işleme tabi tutuyoruz.\n",
        "<br>-ReLU (Rectified Linear Unit) Fonksiyonu\n",
        "<br>![1_m_0v2nY5upLmCU-0SuGZXg.webp](data:image/webp;base64,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)\n",
        "\n",
        "<br>-Sızıntı (Leaky) ReLU Fonksiyonu\n",
        "<br>![1_6ELPKYFehJENrpnVSZtC_w.webp](data:image/webp;base64,UklGRlIVAABXRUJQVlA4IEYVAACQjACdASrQAjUBPrVaqE8nJSQiIlIJKOAWiWdu4XFn++rRDX5/uMtze7/wfp1cp+Qz23Yv2H5ZnL3nx/1/qT/RXsAc5XzDfuN6m/pe/qfo7dUX/9PU381//1+0B/acle8pf4Lt5/0XTd/MJVLh/gJ/vPWr/Of7bwn4B3rr/Yb8eAH8y/unflavuQFwXhpbS89h+wmIUgp7ZeducdzjrsNpA+6xAytppVkuH7CND7wmJem/PNRS87c47nHc47nHc47m2cCPDeFM1BsvO2ANCUWxxPE1HXMN8xvUUP/A7nHc47nHc47nHceS9pX8DtZKqZ2LvdlTlS0fBY274yrl4DVjMqU1t+0McT9XJie9kU+apdPy5idNFzPH0gfSJeOE5JdAczNebCLJJTmE0VRN4cne72UUQB5hpkSCPBYQ1Jw8dT0HEda3+gp7Zeducdzjucdx3qgbwhKaH07jrq4XmayvWvdDV8E4TTRiNhGjcbYe2XnbnHc47nf6ids2ksI6IRstST3oQXJJRuNsPbLztzjucdzjucdzbDn6jbKy4rjeQwlr4UqD/vVKNxth7ZeducdzjucdzjucdcfpnFBC0gDeuKCHaRuNsPbLztzjucdzjucdzjucdcf1SpWADn48aLYDfMD9OKCSVFPbLztzjucdzjBdqrKzCpFObYruKI1TmSAQx+CAdEPiAkAIl7YzYlunENG6Z51JQ9frMdGDZrhZNN8qc1j1Qo3I8aEbiXjO1U3nP29W6Ve/LxgCj8Hkjc47m2BTCS42w9si92A6BKcWub8ThHz7Q7VEsLMghoS606ThgWn3TQBJ8eSte9M3iqwDEjUdM7OPhSNem/3O5ufJ+oq81hnBlEECJnC+4PlRiY+12dUzP3DDe1lvjrqdtRz0IUa13ad3Hi9yv10l+X9iJLH4/HzMew7MXZx3OO456iZ3ZQGNXWTzEuhxmqUi5DS4zIejAtBpkEFNkjvXHp0haVlXBgWhAOCJ7YPwpEwdLRcCgcMbAG0v8MOpl50zgrTHUxVAiDf5lpFQojqoNSzSjcbYbyFpqWB/iOGk6MDwggxgcenrSmMRFeC/YFIL5LTwUBY3fo1Y4zxRJixOJIN++FS7xGyNl525x3OO5x3OO47MnrEentmEKe1PzmDK0y2VDSrl33kpHmUJaqfyv/8lhJ8BzL/foD9e22zeqYz+5T5mxbNxth7Zeducdzjucdzjucda6CEns7RB4MveBJq3P9BT2y87c47nHc47nHc47nHcgThzmFFzMOw8bZx3OO5x3OO5x3OO5x3OO43FlRPjcQaFGZkFQ8KJAbLlLy8VhUSx+Fm8Qkr8sNzRa406lwmhxtnHc47nHc47nHc47nHceNiBC6NRI1pAW89eTWYhyqnurkRSkSxNq/0FPbLztzjucdzjucdzjuceWFjuducdzjucdzjucdzjucdzjucdzjFP1rSrx0waBbnHc47nHc47nHc47nHc47nHc466ywmMZhwEklG42w9svO3NoAD+/j5WIrq1m/vQmIPz+a7SwzOglDx2HzQWJs7MX/hePAhmL+h/SPbng1q77iHKuNWRCRI8b0jaMEFYz87CKkUQco8ElogS754oyaHK115Znh3kBV0QHIZg4MSdOQPDoKxRfJBwq1TW0Fie3YbIK9EgtOHGp4nUrNbHr7p4wgrb2jWrfAKjO8yOdGbdJ6+0lC1ZmGkWUKUUf5kA5KaIzLOXH/vQS8DyDA7/IckyBHOOWaKmvMqXZfWcPe8vRxnJyd0yJ7s47AcP4SJKOAYsiTTXbRGyEKwP7ufNDUugIOQUo0fwPw7qKGPuBBWvIhX8/UqVuHIAtpRpcnTdIpJedKLqJivyuXFMf9VTE+Tum2uhxgAThX5DTSX5pW4VNc/cXj0DH+iEBULuVgOaPHFYgqMuI5ZJWWt6vAmhWlGQ+UMPufHAmaRESuMDYYoSx5EYEv2fYqtPsIIuoZmLk9i74QXDbH5mir90QSKdM8pUcbta8gvqxfDHYXHgY/H99XGNOuVWoYnQWMZSb787I3icvQ5G4aeL1WzBar6uYd+tXNFw8ZfNg4adIBcUudm2vZ5S/LCmGmssGeL04mVbZKbkyI+vEpOC2CdvTpvl7dRF99WcoY0L9j/WA/HuAj0tVHVFv+UuxAr0irzywDF4geDXbkpB+c6xra1bpqUCmBnf07BAfj6ewffYlesPdbMn1f6dQB1tmkpUcGD2gvK0CGP+/uwmFh1cU49/FbdQYYs9wt3i681hSu4tQhQ2XuO7loq/fZmo6EB1lq6+1zD/zP6xVTD8DQf3c+UhhaStuwI2ybDC3mRfYXGCQhdG70OvjPdTKrvhY8kfmQG0VdVObX9LZvub7aegrT5LRZP9IW/E6dr/YpBEoZbpzaEMpVUCagPjzCwTkoFYoOrvibilPpIOHmR1S3EtZksuJR0fAbSptkVDhxA4arzKD/AKQ/9NmgEa/9GOdbL/Ds4HfP05SnzsxZmWQHofHzVZY3xcwfnPB8+/DtBXWiv9DruzcJDEXMZBt2wKgJeCW0EtoIORIIyvmDN4hfR4wGcQvGXFVsfwlDDedONXmsZBW9nBXFliu9vlvsxlGRnpG7Fye8cUDEX3r/xD/RdEhzNe6JFhbKWSW8S17lhiByb/RyNdGttBIcVBNsOLOLiole4V3psvwRXnd0SacaDazyFDLoKqRAvkXn0UqvMcR9K76l3CojIIExACKyZYrME0xdHfX8qB2sCS/EeCtw9WCz+gA8izMEDZE84g3NIOfR1feWSLbRXC7bE1DvHhEjLflCMolqYDguVOW6n0TNyaoTxfFT7QXscAt3VihdgIAeuN8GgI+I8xAMeoFTIE8x0+y7tobm+pWqQiq/+t9pYCt1vB1FhrVEm/kJyfu1rwQMbUIKRqZ5jP95sAXnmGlDxHxMilBhL4gQJwAAAFphtWH+JwTewNJm2nttlgNntQnAjVhUY4il8J81n8Uv8+BUark27ImdRF6vI7cyT70HNRIV5QauI8gMSVgvcqQippknrMY30yrxBB9WYsvo9wAeFIhfOJ1MtYg5NRfJkAAAAJpuVKRDWXFzy+nlD8XWLhdO0ePMlHc9yP5vHQzm0LtNfrWt6nebci3fe/Gmb/gsNbw644iVyofBerh/twNuXRdDZGB0vWuq/udF/FiMAoABf2+4l8SE29fKi6OGrm7DvdVQsq45n0ywqNBaEiXRIiAo01GFhY23Xqa6VjtcZVk7wANDQVUxNmiZLJ2xHrD8wf60XLOaX2j1UgWX6qauTlVQCLH2pGAWBwNqJOItJD73y2sqWZwdlgCnZ7HaQQ1zVxkf2+z7ddh5VLT8GNjr67aVtY7uMUgYRXdBjgcSsrjKHetCw2tXa5NgFMa7wSgqnUN5WlEP/P1RKxCIAboYurKQzTU59bYVAkOlHTKEM2RkP3tZD+fYOMPSd1lteNvOBXjQVyjW3aVQKUQFwPIBGem0goaxqJIHgssWDEEOZtHBMFRnK4dAx3mY7PTnZT+uWJrHB/EswKd2nPeCp6zw0LFkMlBJGrp+PtMDtzaG9PmeAkObP+sLrFawleXdVb+/6ywdnMyH4h76ApNLwcoyJD622Ypq+zDMUn/3xrL0pBQEFo3TreBghTFJvjybv0t2enP/ELvPc5mbVdaBzwLu7asgolKiYaBtTkCv6n+Zzi0qnI9OYrQ4EPlviyDT6QKWsa+6eJ29JPaAK8rXiWHlRAQxZQSVv3WA/XLLacDbXZPTY03xDZd6B6zgtn9C1g3PC/BSkqYt5AnsPdfHsrjvHZxkSYTCATHx0aFjJqddXr7/bXunckTJ6CMR38r9zXH0fJ6fOZE7Izk8k/G/ayHkrwQKFt5xwJGeVXKC8Ak8zhNWvnVDpqWRNKWdciG74droVPpSK36bNn2L/MkAmSIpZAqInPLYCwfDoSIU69k8tUJzjrFcyiFAYTUsqV8gY1PxbOHHcijN7ncGdwPx+ff0l1w78nHyCLAw976DwPuyK0LIslOW2+5ggJhSWpruvI4S68ilSv/savQBLkRAFED+h5f3+ZvvRdJSkT6XwMrRWDcBqYrTX83vuiFNK1vdNw40kbjn5nahYCio7mQuXdZsv3vl7l2k4d2C2Eq8sR+8Pp6V59u0rM7GMOXzMtlBZcbYin6LK54y2bi4Gbok+a05Ga4S3hXbeMGD+hDp+8eYGUA4ADWtW21joxr5b851vn9ugmyCFlKhrl58i9Kzg7kn6bENJMAMU3VKy5PmYQYljUxR4k+iRl4wTBbrpKkAHTPeIhynn2enGQ+tMMbMgOJzjitJzjhiYESg6wqWSef5jsl09gvXrcWsAZ10fXx3lKN1eX2vXB0KBsu7T6ckCfGp1MxRFJuAUC3L2hDfR1EyioFFW06eo98gXtpLbGj5Gca8XRG1ItT8vNSBIBk7Q24NCoPM/BGuRvJRR073xdFArQs/j75fnTQ31Nio097QioVoS7Bf3qQudHZRlka9XBMvwAM81cRMR1g0T6ZysEVfxmFVnMHIXaqz9QantXAETnFfw92Tdb73hO/Gr87gPPbiIS+S+AkRv/KZhfJA7QfCQs0171KR04j659dWLHGd0jMpuNQ5VNf6EBXulMMeVLqbUEdd9IvK4XgjuCcgVJmfoa0wieDVtmFAGEmg3ArULvPQm72XnlqCSVN+yP/E7dvkDKej6yszbHAzswCoK5FvUuuwyB72KcoVyF2F3fSF2YFXB2M4o+IT/DStKmsrg+8xmtU26EzSr+Vf2aFt8nL7CUCJ9xJOVJ5xU9g0DBt3rX+kNOgpULj//XNyqBwAXyqMHg1SDBBnphHdPBM0Bo8Tyv5OjqZ5u2mRxDuAjHC6GBeuUX0QvuSQdbj9ZxT25tFFbbInL1cjOM0XqZ2S5rW/yWyTUTKQnq5UtMGEr50Wl+mAoCLzLkNgummu79rfDOP5D9zEUybRCkJwmBeJKonng/AVtBXL8DnA84ldYmJRMVxfmk1xRHyxbhbA0LBxV5ay0c7+45ToBxObVaMvXANnAJTD6uBXRdmMnFnjTtspbJAfVxT1pHa5jOKoVd+R7+NgFqA/A0ZWJvmnzTp/DkrkBYJnwCtKgoN0/N7t0EvsV1Xa7i3gZkjKG11501yA7f8eKBu3vkAdHk8ZEsmALe81OjSNLuvDNypvd+AQcl5h4C3W1b8Nr/dPsR5uevbe6Q5B6xmHQR0D7VliVbJLjKLeMBB0P0z5+twzDl0WSkvlxzQvzWu3TaJYiLcVuY3UeVWHFThAKCi9hBoMhX74OsxVqEQY4Ar6PgrcvNoqLROBw7ZrgJNwvKxIL3VB8oCd6EWCsANBtLZ/s56Fg1tRAVu5+hqjhiMBzKhetG0G7iqrnyTLQJVRSxHziAN+FHF9bSOuLvNNkeG1za5CISV0K7cASVRwCZXeFYUOkrFG3Qt6jOqsm8Kx14hHDU4cnUkRiD55DgM0SctyoQjRAYp6zZwO6ONaP/QkLsclpe0V7U62DRNTmBY8lmDerJ4lp1pDJqn7fF+jU8AY8p6yPo4/Dy582QR2lzpfOHWtHZxigqr7OrDtVMCpjbUWm+jFecb0X4Jlwwm9rGPEAFn52XfXtF9BCls8raeX3ubwCKQqqxC/eap89SjgX/ESAcVdDORGU3MRdX4ZA82ahtdfaz4GN98Ac7GlgRGA1Jc1iynu7M9KgS9cy4ZwWu0qrd0JrqEFcCrn83Dp56szycSEQWa1LUnFDn3aQTfALgody7F4staV4p4ogaBl2tU7gN6E/jrbOTDHrZ8kSfYTCdkoFccozqRFDnLWShluUwbsC0XFJUlKnWoxmo6P1ITmnQ9l4/nwkm5qaeUmuVsgNkDlShDHNURSGwHQthTD7bm5hMG5Kj4EDIMpoMPL3osxC9KGvcpwUAHqrVwwpaK5wTxSi9u0T/z+F7oUznQ8AoEAqpY+T+EnbyIh7i49fUfDIIgs9c5FQi3kPVxE33ku5y3UIM1ZwARPSyhSfCSvGCFIej0mDS6+neP1R0/lVFVCzm3xCkY7p7zw/tto5fZDGHrMB7ZVbmEZoi/TEyWQyhYnAyE+98i7DRcTwxX/Py3VbPfhbrY/DU0jbhzxFgy9YRO06PlTAzKYJNY2f3ijAVm/RavH9F3O6qnG1ZpAe4PiDGOnM+0OXbQXj9J6paT0Mt1POh814opUUn4j3ItzZvaveU21fcLE7wSq6pmu+5yq3tv8IZoID+WfGCddoM5rl2n54RE5haljoQ4Flj/IKnLLUB7cshjXeHRiSxGzm9w8gTt3QOGNGFtYrGa984DjpY56qSGNzXNQ9LFk3QWyf4KgNkB5KEP7jh4TGOtudGc8/otZVxvkALSkvZ1D+77pdLry14hAqjyrJiHWVxLld5kUpcVh/doftxxAwYOcanSfgy+3+/u1wA0739gEVvm5Ov3mYrbk5Om0dUGjcWlhLauT5t42osiO8WBgYHsmBqWVQpBGBAHD2/XyLoT8+aGm6qavevvduNkd/QICkfhtb8TrPH5cSURkyA3vpUMzuUbID5vI6bQiAQL4nQ/j7LMXsu0uWSt/S87Up/il2wAJ5CGoopfLp5EGwmRq+GYpR6eigbNHoX+Sjs6rlU1rPwWVN/klXww0MqMdgAgz3HPp+TAIsa1KbiPKDuhbPFKrhTvr29Xh8wAxT5sRngL1LLjx1cbJQdQYPkAGBzMroKnhmfbS9xou8T2kOpzDLbxnLPrAyucKbithq0cC2mMp4ZKe3MIwafggQbva+WKWtw/LuCZDL9/rZeYUwiNg9262xiMd9+IiIT5NgmkG38xS5rKMS8ifWbR3gki6oLOVYspIT+bHcWaLsFMkeegRhqGThqOBk7bdSmpkXR0P9XvG5qJsPq89ZQ0xB0Offy+MPK7Cc/Ld07cQL2PpT6+v1c2TllIX77le+cCwzKTxe+fMYS8kJ0uaD1Pfp7U4xcJm+6+yDkog/OBVU4AH00AQcAC1f8fqdKxhtYag54IM3nrj5G8aPmhgIuI7NsfB0NhJINWpNt6VcQCNF/R1rIe3V535QmMBoPUZvuTyrzBYOsDrswHaT2PpEVLn5W4EVMgGEjlfeQJnkeFjBD/An6oPObfNT/VWExx1oZDMD8v2mCU/Vp+q7U1gu8ag74JfhYtXIDg34PcgLVfAAD9WpbqsAABw1T9JNgssz2g/e7vsy93jvvNvhHwoxgwrbKGXatfxp+e4lKWDt7CvXRgABeF6c8gEEdXlvCjoAWAsHAez1qpN4AAAAA)\n",
        "\n",
        "<br>-Sigmoid Fonksiyonu\n",
        "<br>![1_kh22MSwUHPhuur1l6QyYoQ.webp](data:image/webp;base64,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)"
      ],
      "metadata": {
        "id": "nltcAEOEhCSQ"
      }
    },
    {
      "cell_type": "markdown",
      "source": [
        "6> 32,32 lik image oldğunu düşünelim 2,2 like Max pooling sonucunda çıktı hangi boyutta olur?\n",
        "\n",
        "Stride değeri default olarak 1 gelir. ((32-2)/1)+1=31, bu yüzden 31x31 image elde ederiz. "
      ],
      "metadata": {
        "id": "KliTuO-bi4B0"
      }
    },
    {
      "cell_type": "code",
      "source": [
        "7> 6. soruya ek olarak eğer bu işlemler esnasında stride=2 olursa çıktı boyutu nasıl olur?\n",
        "\n",
        "Stride değeri 2 olursa ((32-2)/2)+1=16 yani 16x16-lık bir image elde ederiz."
      ],
      "metadata": {
        "id": "nTdfIbIelCDz"
      },
      "execution_count": null,
      "outputs": []
    },
    {
      "cell_type": "markdown",
      "source": [
        "8> Droupout'un amacı nedir?\n",
        "\n",
        "Dropout, eğitim süresi boyunca her adımda bir hız frekansıyla giriş birimlerini rasgele 0'a ayarlar ve bu da overfittingi önlemeye yardımcı olur."
      ],
      "metadata": {
        "id": "mfofCas8lVuz"
      }
    },
    {
      "cell_type": "markdown",
      "source": [
        "9> Görüntü işleme yöntemleri için kullanılan 3 adet framework belirtiniz.\n",
        "\n",
        "MATLAB, SimpleITK, OpenCV"
      ],
      "metadata": {
        "id": "eUQEtwqil9D4"
      }
    },
    {
      "cell_type": "markdown",
      "source": [
        "10> Niçin imajlar için ANN yerine CNN kullanıyoruz?\n",
        "\n",
        "ANN, veriyi ölçeklendirme işleminde yetersiz olduğu için görüntü sınıflandırma problemleri zorlaşır çünkü 2 boyutlu görüntülerin 1 boyutlu vektörlere dönüştürülmesi gerekir. CNN ile veriye oldukça farklı işlemler uygulayabilip veriden çok farklı ve anlamlı özellikler elde edebiliyoruz. CNN'in en büyük avantajı, önemli özellikleri herhangi bir insan gözetimi olmadan otomatik olarak algılamasıdır. Bu nedenle CNN, bilgisayarla görme ve görüntü sınıflandırma sorunlarına ideal bir çözüm olacaktır.\n"
      ],
      "metadata": {
        "id": "pNvmq738nXWc"
      }
    },
    {
      "cell_type": "markdown",
      "source": [
        "11> CNN ağları için dimension reduction mümkün müdür? Mümkünse nasıl ve hangi katmanlarda uygulanabilir?\n",
        "\n",
        "Dimension reduction işlemini Pooling katmanı ile mümkün kılarız. Bu katmanın görevi, imajın kayma boyutunu ve ağ içindeki parametreleri ve hesaplama sayısını azaltmak içindir. Bu sayede CNN içindeki uyumsuzluk kontrol edilmiş olur.\n"
      ],
      "metadata": {
        "id": "bXwMxcrCoUeU"
      }
    },
    {
      "cell_type": "markdown",
      "source": [
        "12> 5,5 bir imaja 3,3 lük bir filtre uygulandığında stride=1 olacak şekilde o-elde edilen outputun boyutunun 5,5 olması niçin ne yapabiliriz?\n",
        "\n",
        "İmajın boyut kaybetmeden aynı şekilde kalabilmesi için imaj üzerine zero padding yöntemi uygulanarak boyut çıktısı aynı kalabilir. "
      ],
      "metadata": {
        "id": "xRSU5R9Vp5Me"
      }
    }
  ]
}