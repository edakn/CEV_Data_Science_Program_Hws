{
  "cells": [
    {
      "cell_type": "markdown",
      "metadata": {
        "id": "k6yak1tvEvib"
      },
      "source": [
        "TASK-5B: Please give concrete examples for each of the 4 domains of machine learning including classification, regression, clustering, and dimensionality reduction.\n",
        "\n",
        "1-Classification:\n",
        "Predicting the gender of a person by his/her handwriting style\n",
        "\n",
        "2-Regression:\n",
        "Predicting whether price of dollar in turkish liras will increase tomorrow\n",
        "\n",
        "3-Clustering:\n",
        "Wheter an animal in mammals or reptiles\n",
        "\n",
        "4-Dimensionality Reduction:\n",
        "Type the trees to be planted according to the two main characteristics of the region\n"
      ]
    },
    {
      "cell_type": "markdown",
      "metadata": {
        "id": "mg6YuFK9Ezpr"
      },
      "source": [
        "TASK-5C: Please run the GaussianNB algorithm for 20 different values with respect to varr_smoothing parameter to find the best model. Then please visualize your findings via a lineplot (matplotlib) to illustrate the more appropriate values/ranges."
      ]
    },
    {
      "cell_type": "code",
      "execution_count": 112,
      "metadata": {
        "id": "ebwOO7rYEYdB"
      },
      "outputs": [],
      "source": [
        "import numpy as np\n",
        "import pandas as pd\n",
        "import seaborn as sns\n",
        "import matplotlib.pylab as plt\n",
        "from sklearn import metrics\n",
        "from sklearn.metrics import accuracy_score\n",
        "from sklearn.naive_bayes import GaussianNB\n",
        "from sklearn.datasets import load_digits\n",
        "from sklearn.model_selection import train_test_split"
      ]
    },
    {
      "cell_type": "code",
      "execution_count": 113,
      "metadata": {
        "id": "FColA1aCPPc0"
      },
      "outputs": [],
      "source": [
        "data = load_digits()\n",
        "X = data.data\n",
        "y = data.target\n",
        "\n",
        "Xtrain, Xtest, ytrain, ytest = train_test_split(X, y, random_state=0)"
      ]
    },
    {
      "cell_type": "code",
      "source": [
        "for v in range(20):\n",
        "  value=1*(10**-(v))\n",
        "  smoothing_parameters= np.linspace(value,1, num=20)\n",
        "acc_scores=[]\n",
        "for i in smoothing_parameters:\n",
        "       model = GaussianNB(var_smoothing=i)\n",
        "       model.fit(Xtrain, ytrain)\n",
        "       ypred = model.predict(Xtest)\n",
        "       acc_scores.append(accuracy_score(ytest, ypred))\n",
        "plt.plot(smoothing_parameters, acc_scores)\n",
        "print('The best model is {} Var-smoothing value which has {} accuracy score.'.format(smoothing_parameters[acc_scores.index(max(acc_scores))], max(acc_scores)))\n",
        "plt.xlabel('Random var-smoothing Parameters')\n",
        "plt.ylabel('Accuracy Scores')\n",
        "plt.show()"
      ],
      "metadata": {
        "colab": {
          "base_uri": "https://localhost:8080/",
          "height": 296
        },
        "id": "SKlTRaDl9Auu",
        "outputId": "e24997a3-ee78-4e4c-c6c4-01665bbf8620"
      },
      "execution_count": 114,
      "outputs": [
        {
          "output_type": "stream",
          "name": "stdout",
          "text": [
            "The best model is 0.05263157894736842 Var-smoothing value which has 0.9355555555555556 accuracy score.\n"
          ]
        },
        {
          "output_type": "display_data",
          "data": {
            "text/plain": [
              "<Figure size 432x288 with 1 Axes>"
            ],
            "image/png": "[encoded data removed]"
          },
          "metadata": {
            "needs_background": "light"
          }
        }
      ]
    },
    {
      "cell_type": "markdown",
      "metadata": {
        "id": "hE_yMWfwFARL"
      },
      "source": [
        "TASK-5D: Please use two different algorithms (other than GaussianNB) with their default parameter values and then compare your findings to the ones obtained in Task-5C."
      ]
    },
    {
      "cell_type": "code",
      "source": [
        "from sklearn.linear_model import SGDClassifier\n",
        "from sklearn.preprocessing import scale\n",
        "from sklearn.ensemble import RandomForestClassifier"
      ],
      "metadata": {
        "id": "Nb-d6sSL0FpN"
      },
      "execution_count": 115,
      "outputs": []
    },
    {
      "cell_type": "code",
      "source": [
        "#SGDClassifier\n",
        "model_sgd = SGDClassifier(max_iter=1000,tol=0.02)\n",
        "model_sgd.fit(Xtrain, ytrain)   \n",
        "ymodel = model_sgd.predict(Xtest)\n",
        "print(\"The accuracy of the model relative to Stochastic Gradient Descent Classifier\",accuracy_score(ytest, ymodel))\n"
      ],
      "metadata": {
        "colab": {
          "base_uri": "https://localhost:8080/"
        },
        "id": "GSVbEdzgfGti",
        "outputId": "69002547-3f8f-4222-fc64-7e7c90ac44f7"
      },
      "execution_count": 116,
      "outputs": [
        {
          "output_type": "stream",
          "name": "stdout",
          "text": [
            "The accuracy of the model relative to Stochastic Gradient Descent Classifier 0.9288888888888889\n"
          ]
        }
      ]
    },
    {
      "cell_type": "code",
      "source": [
        "#RandomForestClassifier\n",
        "model_rfc= RandomForestClassifier()\n",
        "model_rfc.fit(Xtrain, ytrain)\n",
        "ymodel = model_rfc.predict(Xtest)\n",
        "print(\"The accuracy of the model relative to Random Forest Classifier\",accuracy_score(ytest, ymodel))\n"
      ],
      "metadata": {
        "id": "-1AnHqml1IXX",
        "colab": {
          "base_uri": "https://localhost:8080/"
        },
        "outputId": "f70e9130-2c6f-4a71-aee2-231d79764d87"
      },
      "execution_count": 117,
      "outputs": [
        {
          "output_type": "stream",
          "name": "stdout",
          "text": [
            "The accuracy of the model relative to Random Forest Classifier 0.98\n"
          ]
        }
      ]
    }
  ],
  "metadata": {
    "colab": {
      "provenance": [],
      "collapsed_sections": []
    },
    "kernelspec": {
      "display_name": "Python 3",
      "name": "python3"
    },
    "language_info": {
      "name": "python"
    }
  },
  "nbformat": 4,
  "nbformat_minor": 0
}