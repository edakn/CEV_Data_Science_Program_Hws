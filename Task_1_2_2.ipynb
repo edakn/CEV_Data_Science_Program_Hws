{
  "nbformat": 4,
  "nbformat_minor": 0,
  "metadata": {
    "colab": {
      "provenance": [],
      "collapsed_sections": []
    },
    "kernelspec": {
      "name": "python3",
      "display_name": "Python 3"
    },
    "language_info": {
      "name": "python"
    }
  },
  "cells": [
    {
      "cell_type": "markdown",
      "source": [
        "TASK-1.2.2: First 100 prime numbers: use for instead of while"
      ],
      "metadata": {
        "id": "AB_UQ2Bs-NPe"
      }
    },
    {
      "cell_type": "code",
      "source": [
        "def is_prime (num):\n",
        "  if (num<2):\n",
        "    return False\n",
        "  elif (num==2):\n",
        "    return True\n",
        "  elif(num%2 == 0):\n",
        "    return False\n",
        "  for i in range(3,int(num/2),2):\n",
        "    if (num%i == 0):\n",
        "      return False\n",
        "  return True"
      ],
      "metadata": {
        "id": "PLKjl457-o81"
      },
      "execution_count": 1,
      "outputs": []
    },
    {
      "cell_type": "code",
      "source": [
        "counter = 1\n",
        "num = 3\n",
        "my_prime_list = [2]\n",
        "\n",
        "\n",
        "\n",
        "if(num==3):\n",
        "  my_prime_list.append(num)\n",
        "  for n in range(1,99):\n",
        "    num+=2\n",
        "    for i in range(2,num):\n",
        "      if(is_prime(num)):\n",
        "         my_prime_list.append(num)\n",
        "         counter= counter+1\n",
        "         break  \n",
        "      num+=2\n",
        "      \n",
        "  \n",
        "my_prime_list"
      ],
      "metadata": {
        "colab": {
          "base_uri": "https://localhost:8080/"
        },
        "id": "R5m7yLIp-S8p",
        "outputId": "71b669a8-7f49-4702-c312-0c43a8953fd4"
      },
      "execution_count": 2,
      "outputs": [
        {
          "output_type": "execute_result",
          "data": {
            "text/plain": [
              "[2,\n",
              " 3,\n",
              " 5,\n",
              " 7,\n",
              " 11,\n",
              " 13,\n",
              " 17,\n",
              " 19,\n",
              " 23,\n",
              " 29,\n",
              " 31,\n",
              " 37,\n",
              " 41,\n",
              " 43,\n",
              " 47,\n",
              " 53,\n",
              " 59,\n",
              " 61,\n",
              " 67,\n",
              " 71,\n",
              " 73,\n",
              " 79,\n",
              " 83,\n",
              " 89,\n",
              " 97,\n",
              " 101,\n",
              " 103,\n",
              " 107,\n",
              " 109,\n",
              " 113,\n",
              " 127,\n",
              " 131,\n",
              " 137,\n",
              " 139,\n",
              " 149,\n",
              " 151,\n",
              " 157,\n",
              " 163,\n",
              " 167,\n",
              " 173,\n",
              " 179,\n",
              " 181,\n",
              " 191,\n",
              " 193,\n",
              " 197,\n",
              " 199,\n",
              " 211,\n",
              " 223,\n",
              " 227,\n",
              " 229,\n",
              " 233,\n",
              " 239,\n",
              " 241,\n",
              " 251,\n",
              " 257,\n",
              " 263,\n",
              " 269,\n",
              " 271,\n",
              " 277,\n",
              " 281,\n",
              " 283,\n",
              " 293,\n",
              " 307,\n",
              " 311,\n",
              " 313,\n",
              " 317,\n",
              " 331,\n",
              " 337,\n",
              " 347,\n",
              " 349,\n",
              " 353,\n",
              " 359,\n",
              " 367,\n",
              " 373,\n",
              " 379,\n",
              " 383,\n",
              " 389,\n",
              " 397,\n",
              " 401,\n",
              " 409,\n",
              " 419,\n",
              " 421,\n",
              " 431,\n",
              " 433,\n",
              " 439,\n",
              " 443,\n",
              " 449,\n",
              " 457,\n",
              " 461,\n",
              " 463,\n",
              " 467,\n",
              " 479,\n",
              " 487,\n",
              " 491,\n",
              " 499,\n",
              " 503,\n",
              " 509,\n",
              " 521,\n",
              " 523,\n",
              " 541]"
            ]
          },
          "metadata": {},
          "execution_count": 2
        }
      ]
    }
  ]
}